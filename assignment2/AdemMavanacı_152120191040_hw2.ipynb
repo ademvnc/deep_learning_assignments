{
  "nbformat": 4,
  "nbformat_minor": 0,
  "metadata": {
    "colab": {
      "provenance": []
    },
    "kernelspec": {
      "name": "python3",
      "display_name": "Python 3"
    },
    "language_info": {
      "name": "python"
    }
  },
  "cells": [
    {
      "cell_type": "markdown",
      "source": [
        "### **ORJINAL KOD**"
      ],
      "metadata": {
        "id": "KtMp_rs1f6He"
      }
    },
    {
      "cell_type": "code",
      "source": [
        "# Gerekli kütüphaneleri içe aktar\n",
        "import os\n",
        "import cv2\n",
        "import numpy as np\n",
        "from scipy.stats import kurtosis, skew\n",
        "from collections import Counter\n",
        "from google.colab.patches import cv2_imshow  # Colab için görüntü gösterme\n",
        "\n",
        "# 1. Klasörden görüntüleri yükle ve 128x128 boyutunda gri tonlamaya dönüştür\n",
        "def load_images_from_folder(folder_path):\n",
        "    images = []\n",
        "    labels = []\n",
        "    label_mapping = {\"camera\": 1, \"flamingo\": 2, \"pizza\": 3}  # Sınıf etiketleri\n",
        "\n",
        "    for label_name in os.listdir(folder_path):  # Her alt klasör için döngü\n",
        "        class_path = os.path.join(folder_path, label_name)\n",
        "        if not os.path.isdir(class_path):\n",
        "            continue  # Dosya değilse atla\n",
        "\n",
        "        for filename in os.listdir(class_path):  # Alt klasördeki her görüntü\n",
        "            img_path = os.path.join(class_path, filename)\n",
        "            img = cv2.imread(img_path)\n",
        "            if img is not None:\n",
        "                # Gri tonlamaya çevir ve 128x128 boyutuna getir\n",
        "                gray_img = cv2.cvtColor(img, cv2.COLOR_BGR2GRAY)\n",
        "                resized_img = cv2.resize(gray_img, (128, 128))\n",
        "                # Görüntünün türevini al (Sobel filtresi)\n",
        "                sobelx = cv2.Sobel(resized_img, cv2.CV_64F, 1, 0, ksize=5)\n",
        "                sobely = cv2.Sobel(resized_img, cv2.CV_64F, 0, 1, ksize=5)\n",
        "                gradient = np.sqrt(sobelx**2 + sobely**2)\n",
        "                # 128x128 görüntüyü 1x16384 vektörüne dönüştür\n",
        "                gradient_vector = gradient.flatten().astype(np.float32)  # Değişiklik burada\n",
        "                images.append(gradient_vector)\n",
        "                labels.append(label_mapping[label_name])  # Sınıf etiketini ekle\n",
        "\n",
        "    return np.array(images), np.array(labels)\n",
        "\n",
        "# Eğitim ve test verilerini yükle\n",
        "x_train, y_train = load_images_from_folder('/content/train')\n",
        "x_test, y_test = load_images_from_folder('/content/test')\n",
        "\n",
        "# 2. Vektörlerden 6 özellik çıkar (Feature Extraction)\n",
        "def extract_features(vectors):\n",
        "    features = []\n",
        "    for vector in vectors:\n",
        "        # Çarpıklık (Skewness)\n",
        "        skewness = skew(vector)\n",
        "        # Basıklık (Kurtosis)\n",
        "        kurt = kurtosis(vector)\n",
        "        # Tepe Faktörü (Crest Factor)\n",
        "        crest_factor = np.max(np.abs(vector)) / np.sqrt(np.mean(np.square(vector))) if np.mean(np.square(vector)) != 0 else 0\n",
        "        # Şekil Faktörü (Shape Factor)\n",
        "        shape_factor = np.sqrt(np.mean(np.square(vector))) / np.mean(np.abs(vector)) if np.mean(np.abs(vector)) != 0 else 0\n",
        "        # Darbe Faktörü (Impulse Factor)\n",
        "        impulse_factor = np.max(np.abs(vector)) / np.mean(np.abs(vector)) if np.mean(np.abs(vector)) != 0 else 0\n",
        "        # Marj Faktörü (Margin Factor)\n",
        "        margin_factor = np.max(np.abs(vector)) / np.median(np.abs(vector)) if np.median(np.abs(vector)) != 0 else 0\n",
        "        # Özellikleri bir listeye ekle\n",
        "        features.append([skewness, kurt, crest_factor, shape_factor, impulse_factor, margin_factor])\n",
        "    return np.array(features)\n",
        "\n",
        "# Eğitim ve test özelliklerini çıkar\n",
        "x_train_features = extract_features(x_train)\n",
        "x_test_features = extract_features(x_test)\n",
        "\n",
        "# 3. KNN Fonksiyonunu Tanımla\n",
        "def KNN(x_train, y_train, sample_test, k=5):\n",
        "    # Öklid mesafesini hesapla\n",
        "    distances = np.linalg.norm(x_train - sample_test, axis=1)\n",
        "    # Mesafelere göre sıralayıp en yakın k komşuyu seç\n",
        "    nearest_neighbors = np.argsort(distances)[:k]\n",
        "    # En sık görülen sınıfı bul ve döndür\n",
        "    top_class = Counter(y_train[nearest_neighbors]).most_common(1)[0][0]\n",
        "    return top_class\n",
        "\n",
        "# 4. Modelin Test Edilmesi ve Tahmin Sonuçlarının Gösterilmesi\n",
        "correct_predictions = 0  # Doğru tahmin sayısını tutmak için\n",
        "class_mapping = {1: \"camera\", 2: \"flamingo\", 3: \"pizza\"}  # Sınıf isimleri\n",
        "\n",
        "print(f\"{'Test Image':<12} {'Predicted Class':<15} {'Actual Class':<15}\")\n",
        "\n",
        "for i in range(len(x_test_features)):\n",
        "    # Her test görüntüsü için tahmin yap\n",
        "    prediction = KNN(x_train_features, y_train, x_test_features[i], k=5)\n",
        "    actual_label = y_test[i]  # Gerçek etiket\n",
        "\n",
        "    # Tahmin edilen ve gerçek sınıfı ekrana yazdır\n",
        "    print(f\"Image {i+1:<7} {class_mapping[prediction]:<15} {class_mapping[actual_label]:<15}\")\n",
        "\n",
        "    if prediction == actual_label:\n",
        "        correct_predictions += 1  # Doğru tahmin durumunda artır\n",
        "\n",
        "# Doğruluk oranını hesapla\n",
        "accuracy = correct_predictions / len(y_test) * 100  # 'y_test_features' yerine 'y_test' kullanıldı\n",
        "print(f\"\\nTest Doğruluğu: {accuracy:.2f}%\")\n"
      ],
      "metadata": {
        "colab": {
          "base_uri": "https://localhost:8080/"
        },
        "id": "o7mAJ_fDbkeK",
        "outputId": "a73be269-7df9-48bf-d041-c28b52f953e1"
      },
      "execution_count": 40,
      "outputs": [
        {
          "output_type": "stream",
          "name": "stdout",
          "text": [
            "Test Image   Predicted Class Actual Class   \n",
            "Image 1       camera          camera         \n",
            "Image 2       flamingo        camera         \n",
            "Image 3       flamingo        camera         \n",
            "Image 4       flamingo        camera         \n",
            "Image 5       flamingo        camera         \n",
            "Image 6       flamingo        flamingo       \n",
            "Image 7       flamingo        flamingo       \n",
            "Image 8       flamingo        flamingo       \n",
            "Image 9       flamingo        flamingo       \n",
            "Image 10      flamingo        flamingo       \n",
            "Image 11      flamingo        flamingo       \n",
            "Image 12      camera          flamingo       \n",
            "Image 13      pizza           flamingo       \n",
            "Image 14      pizza           pizza          \n",
            "Image 15      pizza           pizza          \n",
            "Image 16      pizza           pizza          \n",
            "Image 17      flamingo        pizza          \n",
            "Image 18      flamingo        pizza          \n",
            "Image 19      pizza           pizza          \n",
            "\n",
            "Test Doğruluğu: 57.89%\n"
          ]
        }
      ]
    },
    {
      "cell_type": "markdown",
      "source": [
        "### **INSTALL KERAS**"
      ],
      "metadata": {
        "id": "xYxv7V95fz-V"
      }
    },
    {
      "cell_type": "code",
      "source": [
        "!pip install keras\n",
        "!pip install keras.preprocessing\n"
      ],
      "metadata": {
        "colab": {
          "base_uri": "https://localhost:8080/"
        },
        "id": "uwaruO7YcPjV",
        "outputId": "0bc9707a-4d34-4a7e-b276-e395682a0df7"
      },
      "execution_count": 17,
      "outputs": [
        {
          "output_type": "stream",
          "name": "stdout",
          "text": [
            "Requirement already satisfied: keras.preprocessing in /usr/local/lib/python3.10/dist-packages (1.1.2)\n",
            "Requirement already satisfied: numpy>=1.9.1 in /usr/local/lib/python3.10/dist-packages (from keras.preprocessing) (1.26.4)\n",
            "Requirement already satisfied: six>=1.9.0 in /usr/local/lib/python3.10/dist-packages (from keras.preprocessing) (1.16.0)\n"
          ]
        }
      ]
    },
    {
      "cell_type": "markdown",
      "source": [],
      "metadata": {
        "id": "CPgD8_Ezfjwu"
      }
    },
    {
      "cell_type": "markdown",
      "source": [
        "### **KNN DE DÜZENLENME YAPILMIŞ VE KERAS KULLANILMIŞ HALİ**"
      ],
      "metadata": {
        "id": "muUO2WdQfpW1"
      }
    },
    {
      "cell_type": "code",
      "source": [
        "# Gerekli kütüphaneleri içe aktar\n",
        "import os\n",
        "import cv2\n",
        "import numpy as np\n",
        "from scipy.stats import kurtosis, skew\n",
        "from collections import Counter\n",
        "from tensorflow.keras.preprocessing.image import ImageDataGenerator  # TensorFlow Keras kullan\n",
        "\n",
        "# 1. Klasörden görüntüleri yükle ve 128x128 boyutunda gri tonlamaya dönüştür\n",
        "def load_images_from_folder(folder_path):\n",
        "    images = []\n",
        "    labels = []\n",
        "    label_mapping = {\"camera\": 1, \"flamingo\": 2, \"pizza\": 3}  # Sınıf etiketleri\n",
        "\n",
        "    for label_name in os.listdir(folder_path):  # Her alt klasör için döngü\n",
        "        class_path = os.path.join(folder_path, label_name)\n",
        "        if not os.path.isdir(class_path):\n",
        "            continue  # Dosya değilse atla\n",
        "\n",
        "        for filename in os.listdir(class_path):  # Alt klasördeki her görüntü\n",
        "            img_path = os.path.join(class_path, filename)\n",
        "            img = cv2.imread(img_path)\n",
        "            if img is not None:\n",
        "                # Gri tonlamaya çevir ve 128x128 boyutuna getir\n",
        "                gray_img = cv2.cvtColor(img, cv2.COLOR_BGR2GRAY)\n",
        "                resized_img = cv2.resize(gray_img, (128, 128))\n",
        "                images.append(resized_img)  # Gri görüntüyü ekle\n",
        "                labels.append(label_mapping[label_name])  # Sınıf etiketini ekle\n",
        "\n",
        "    return np.array(images), np.array(labels)\n",
        "\n",
        "# Eğitim ve test verilerini yükle\n",
        "x_train, y_train = load_images_from_folder('/content/train')\n",
        "x_test, y_test = load_images_from_folder('/content/test')\n",
        "\n",
        "# 2. Görüntüleri augment etme\n",
        "datagen = ImageDataGenerator(\n",
        "    rotation_range=20,\n",
        "    width_shift_range=0.2,\n",
        "    height_shift_range=0.2,\n",
        "    shear_range=0.2,\n",
        "    zoom_range=0.2,\n",
        "    horizontal_flip=True,\n",
        "    fill_mode='nearest'\n",
        ")\n",
        "\n",
        "# Augment edilen eğitim verilerini saklayacak yer\n",
        "augmented_images = []\n",
        "augmented_labels = []\n",
        "\n",
        "# Eğitim verilerini augment et\n",
        "for img, label in zip(x_train, y_train):\n",
        "    img = img.reshape((1,) + img.shape + (1,))  # Şekil değiştirin (128, 128, 1)\n",
        "    for batch in datagen.flow(img, batch_size=1):\n",
        "        augmented_images.append(batch[0].reshape(128, 128))  # Augmented görüntüyü ekle\n",
        "        augmented_labels.append(label)  # Etiketi ekle\n",
        "        if len(augmented_images) >= len(x_train) * 2:  # Orijinal veri sayısının iki katı kadar\n",
        "            break  # Döngüyü durdur\n",
        "\n",
        "augmented_images = np.array(augmented_images)\n",
        "augmented_labels = np.array(augmented_labels)\n",
        "\n",
        "# 3. Vektörlerden 6 özellik çıkar (Feature Extraction)\n",
        "def extract_features(vectors):\n",
        "    features = []\n",
        "    for vector in vectors:\n",
        "        # Çarpıklık (Skewness)\n",
        "        skewness = skew(vector.flatten())\n",
        "        # Basıklık (Kurtosis)\n",
        "        kurt = kurtosis(vector.flatten())\n",
        "        # Tepe Faktörü (Crest Factor)\n",
        "        crest_factor = np.max(np.abs(vector)) / np.sqrt(np.mean(np.square(vector))) if np.mean(np.square(vector)) != 0 else 0\n",
        "        # Şekil Faktörü (Shape Factor)\n",
        "        shape_factor = np.sqrt(np.mean(np.square(vector))) / np.mean(np.abs(vector)) if np.mean(np.abs(vector)) != 0 else 0\n",
        "        # Darbe Faktörü (Impulse Factor)\n",
        "        impulse_factor = np.max(np.abs(vector)) / np.mean(np.abs(vector)) if np.mean(np.abs(vector)) != 0 else 0\n",
        "        # Marj Faktörü (Margin Factor)\n",
        "        margin_factor = np.max(np.abs(vector)) / np.median(np.abs(vector)) if np.median(np.abs(vector)) != 0 else 0\n",
        "        # Özellikleri bir listeye ekle\n",
        "        features.append([skewness, kurt, crest_factor, shape_factor, impulse_factor, margin_factor])\n",
        "    return np.array(features)\n",
        "\n",
        "# Özellikleri çıkar\n",
        "x_train_features = extract_features(augmented_images)\n",
        "x_test_features = extract_features(x_test)\n",
        "\n",
        "# 4. KNN Fonksiyonunu Tanımla\n",
        "def KNN(x_train, y_train, sample_test, k=5):\n",
        "    # Öklid mesafesini hesapla\n",
        "    distances = np.linalg.norm(x_train - sample_test, axis=1)\n",
        "    # Mesafelere göre sıralayıp en yakın k komşuyu seç\n",
        "    nearest_neighbors = np.argsort(distances)[:k]\n",
        "    # En sık görülen sınıfı bul ve döndür\n",
        "    top_class = Counter(y_train[nearest_neighbors]).most_common(1)[0][0]\n",
        "    return top_class\n",
        "\n",
        "# 5. Modelin Test Edilmesi ve Tahmin Sonuçlarının Gösterilmesi\n",
        "def evaluate_model(x_test_features, y_test, x_train_features, y_train):\n",
        "    correct_predictions = 0  # Doğru tahmin sayısını tutmak için\n",
        "    class_mapping = {1: \"camera\", 2: \"flamingo\", 3: \"pizza\"}  # Sınıf isimleri\n",
        "\n",
        "    print(f\"{'Test Image':<12} {'Predicted Class':<15} {'Actual Class':<15}\")\n",
        "\n",
        "    for i in range(len(x_test_features)):\n",
        "        # Her test görüntüsü için tahmin yap\n",
        "        prediction = KNN(x_train_features, y_train, x_test_features[i], k=5)\n",
        "        actual_label = y_test[i]  # Gerçek etiket\n",
        "\n",
        "        # Tahmin edilen ve gerçek sınıfı ekrana yazdır\n",
        "        print(f\"Image {i+1:<7} {class_mapping[prediction]:<15} {class_mapping[actual_label]:<15}\")\n",
        "\n",
        "        if prediction == actual_label:\n",
        "            correct_predictions += 1  # Doğru tahmin durumunda artır\n",
        "\n",
        "    # Doğruluk oranını hesapla\n",
        "    accuracy = correct_predictions / len(y_test) * 100\n",
        "    print(f\"\\nTest Doğruluğu: {accuracy:.2f}%\")\n",
        "\n",
        "# Modeli değerlendir\n",
        "evaluate_model(x_test_features, y_test, x_train_features, augmented_labels)\n"
      ],
      "metadata": {
        "colab": {
          "base_uri": "https://localhost:8080/"
        },
        "id": "pNsy4qsub_ef",
        "outputId": "98c93a51-7f7e-4da8-a7d6-3b089f9eeda0"
      },
      "execution_count": 30,
      "outputs": [
        {
          "output_type": "stream",
          "name": "stdout",
          "text": [
            "Test Image   Predicted Class Actual Class   \n",
            "Image 1       flamingo        camera         \n",
            "Image 2       flamingo        camera         \n",
            "Image 3       flamingo        camera         \n",
            "Image 4       flamingo        camera         \n",
            "Image 5       flamingo        camera         \n",
            "Image 6       flamingo        flamingo       \n",
            "Image 7       flamingo        flamingo       \n",
            "Image 8       flamingo        flamingo       \n",
            "Image 9       flamingo        flamingo       \n",
            "Image 10      flamingo        flamingo       \n",
            "Image 11      flamingo        flamingo       \n",
            "Image 12      flamingo        flamingo       \n",
            "Image 13      flamingo        flamingo       \n",
            "Image 14      flamingo        pizza          \n",
            "Image 15      flamingo        pizza          \n",
            "Image 16      flamingo        pizza          \n",
            "Image 17      flamingo        pizza          \n",
            "Image 18      flamingo        pizza          \n",
            "Image 19      flamingo        pizza          \n",
            "\n",
            "Test Doğruluğu: 42.11%\n"
          ]
        }
      ]
    }
  ]
}